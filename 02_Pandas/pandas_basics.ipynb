{
 "cells": [
  {
   "cell_type": "markdown",
   "metadata": {},
   "source": [
    "# Pandas Basics - Comprehensive Tutorial\n",
    "\n",
    "This notebook covers fundamental and advanced Pandas concepts for data manipulation.\n",
    "\n",
    "## Table of Contents\n",
    "1. [Introduction](#intro)\n",
    "2. [Series and DataFrames](#structures)\n",
    "3. [Data Loading](#loading)\n",
    "4. [Data Selection](#selection)\n",
    "5. [Data Cleaning](#cleaning)\n",
    "6. [Data Transformation](#transform)\n",
    "7. [GroupBy Operations](#groupby)\n",
    "8. [Time Series](#timeseries)\n",
    "9. [Practical Examples](#examples)"
   ]
  },
  {
   "cell_type": "markdown",
   "metadata": {},
   "source": [
    "## 1. Introduction <a id='intro'></a>"
   ]
  },
  {
   "cell_type": "code",
   "execution_count": null,
   "metadata": {},
   "outputs": [],
   "source": [
    "import pandas as pd\n",
    "import numpy as np\n",
    "print(f\"Pandas version: {pd.__version__}\")"
   ]
  },
  {
   "cell_type": "markdown",
   "metadata": {},
   "source": [
    "## 2. Series and DataFrames <a id='structures'></a>"
   ]
  },
  {
   "cell_type": "code",
   "execution_count": null,
   "metadata": {},
   "outputs": [],
   "source": [
    "# Creating a Series\n",
    "s = pd.Series([1, 2, 3, 4, 5], index=['a', 'b', 'c', 'd', 'e'])\n",
    "print(\"Series:\")\n",
    "print(s)\n",
    "\n",
    "# Creating a DataFrame\n",
    "data = {\n",
    "    'Name': ['Alice', 'Bob', 'Charlie', 'David'],\n",
    "    'Age': [25, 30, 35, 28],\n",
    "    'City': ['New York', 'Los Angeles', 'Chicago', 'Houston'],\n",
    "    'Salary': [50000, 60000, 75000, 55000]\n",
    "}\n",
    "df = pd.DataFrame(data)\n",
    "print(\"\\nDataFrame:\")\n",
    "print(df)"
   ]
  },
  {
   "cell_type": "markdown",
   "metadata": {},
   "source": [
    "## 3. Data Loading <a id='loading'></a>"
   ]
  },
  {
   "cell_type": "code",
   "execution_count": null,
   "metadata": {},
   "outputs": [],
   "source": [
    "# Create sample data\n",
    "sample_data = pd.DataFrame({\n",
    "    'A': [1, 2, 3, 4, 5],\n",
    "    'B': [10, 20, 30, 40, 50],\n",
    "    'C': ['x', 'y', 'z', 'x', 'y']\n",
    "})\n",
    "\n",
    "# Save to CSV\n",
    "sample_data.to_csv('/tmp/sample.csv', index=False)\n",
    "\n",
    "# Read from CSV\n",
    "df = pd.read_csv('/tmp/sample.csv')\n",
    "print(\"Data from CSV:\")\n",
    "print(df)\n",
    "print(\"\\nData info:\")\n",
    "print(df.info())\n",
    "print(\"\\nData description:\")\n",
    "print(df.describe())"
   ]
  },
  {
   "cell_type": "markdown",
   "metadata": {},
   "source": [
    "## 4. Data Selection <a id='selection'></a>"
   ]
  },
  {
   "cell_type": "code",
   "execution_count": null,
   "metadata": {},
   "outputs": [],
   "source": [
    "df = pd.DataFrame({\n",
    "    'Name': ['Alice', 'Bob', 'Charlie', 'David', 'Eve'],\n",
    "    'Age': [25, 30, 35, 28, 32],\n",
    "    'City': ['NYC', 'LA', 'Chicago', 'Houston', 'NYC'],\n",
    "    'Salary': [50000, 60000, 75000, 55000, 65000]\n",
    "})\n",
    "\n",
    "print(\"Original DataFrame:\")\n",
    "print(df)\n",
    "\n",
    "# Column selection\n",
    "print(\"\\nSingle column:\")\n",
    "print(df['Name'])\n",
    "\n",
    "print(\"\\nMultiple columns:\")\n",
    "print(df[['Name', 'Salary']])\n",
    "\n",
    "# Row selection with loc and iloc\n",
    "print(\"\\nFirst row (iloc):\")\n",
    "print(df.iloc[0])\n",
    "\n",
    "print(\"\\nRows 1-3 (iloc):\")\n",
    "print(df.iloc[1:3])\n",
    "\n",
    "# Boolean indexing\n",
    "print(\"\\nPeople older than 28:\")\n",
    "print(df[df['Age'] > 28])\n",
    "\n",
    "print(\"\\nPeople from NYC:\")\n",
    "print(df[df['City'] == 'NYC'])\n",
    "\n",
    "# Multiple conditions\n",
    "print(\"\\nAge > 28 AND City == NYC:\")\n",
    "print(df[(df['Age'] > 28) & (df['City'] == 'NYC')])"
   ]
  },
  {
   "cell_type": "markdown",
   "metadata": {},
   "source": [
    "## 5. Data Cleaning <a id='cleaning'></a>"
   ]
  },
  {
   "cell_type": "code",
   "execution_count": null,
   "metadata": {},
   "outputs": [],
   "source": [
    "# Create data with missing values\n",
    "df = pd.DataFrame({\n",
    "    'A': [1, 2, np.nan, 4, 5],\n",
    "    'B': [10, np.nan, 30, 40, 50],\n",
    "    'C': ['x', 'y', 'z', 'x', 'y']\n",
    "})\n",
    "\n",
    "print(\"Data with missing values:\")\n",
    "print(df)\n",
    "\n",
    "# Check for missing values\n",
    "print(\"\\nMissing values:\")\n",
    "print(df.isnull())\n",
    "print(\"\\nMissing value counts:\")\n",
    "print(df.isnull().sum())\n",
    "\n",
    "# Fill missing values\n",
    "print(\"\\nFill with mean:\")\n",
    "print(df.fillna(df.mean()))\n",
    "\n",
    "print(\"\\nFill with specific value:\")\n",
    "print(df.fillna(0))\n",
    "\n",
    "# Drop missing values\n",
    "print(\"\\nDrop rows with missing values:\")\n",
    "print(df.dropna())\n",
    "\n",
    "# Remove duplicates\n",
    "df_dup = pd.DataFrame({\n",
    "    'A': [1, 2, 2, 3],\n",
    "    'B': [4, 5, 5, 6]\n",
    "})\n",
    "print(\"\\nData with duplicates:\")\n",
    "print(df_dup)\n",
    "print(\"\\nAfter removing duplicates:\")\n",
    "print(df_dup.drop_duplicates())"
   ]
  },
  {
   "cell_type": "markdown",
   "metadata": {},
   "source": [
    "## 6. Data Transformation <a id='transform'></a>"
   ]
  },
  {
   "cell_type": "code",
   "execution_count": null,
   "metadata": {},
   "outputs": [],
   "source": [
    "df = pd.DataFrame({\n",
    "    'Name': ['Alice', 'Bob', 'Charlie'],\n",
    "    'Score': [85, 90, 78]\n",
    "})\n",
    "\n",
    "print(\"Original DataFrame:\")\n",
    "print(df)\n",
    "\n",
    "# Add new column\n",
    "df['Grade'] = df['Score'].apply(lambda x: 'A' if x >= 90 else ('B' if x >= 80 else 'C'))\n",
    "print(\"\\nWith Grade column:\")\n",
    "print(df)\n",
    "\n",
    "# Map function\n",
    "df['Score_Doubled'] = df['Score'].map(lambda x: x * 2)\n",
    "print(\"\\nWith Score_Doubled:\")\n",
    "print(df)\n",
    "\n",
    "# String operations\n",
    "df['Name_Upper'] = df['Name'].str.upper()\n",
    "df['Name_Length'] = df['Name'].str.len()\n",
    "print(\"\\nWith string operations:\")\n",
    "print(df)"
   ]
  },
  {
   "cell_type": "markdown",
   "metadata": {},
   "source": [
    "## 7. GroupBy Operations <a id='groupby'></a>"
   ]
  },
  {
   "cell_type": "code",
   "execution_count": null,
   "metadata": {},
   "outputs": [],
   "source": [
    "df = pd.DataFrame({\n",
    "    'City': ['NYC', 'LA', 'NYC', 'LA', 'Chicago'],\n",
    "    'Category': ['A', 'B', 'A', 'B', 'A'],\n",
    "    'Sales': [100, 150, 200, 180, 120],\n",
    "    'Profit': [20, 30, 40, 35, 25]\n",
    "})\n",
    "\n",
    "print(\"Original data:\")\n",
    "print(df)\n",
    "\n",
    "# Group by single column\n",
    "print(\"\\nAverage sales by city:\")\n",
    "print(df.groupby('City')['Sales'].mean())\n",
    "\n",
    "# Group by multiple columns\n",
    "print(\"\\nTotal sales by city and category:\")\n",
    "print(df.groupby(['City', 'Category'])['Sales'].sum())\n",
    "\n",
    "# Multiple aggregations\n",
    "print(\"\\nMultiple aggregations:\")\n",
    "print(df.groupby('City').agg({\n",
    "    'Sales': ['mean', 'sum'],\n",
    "    'Profit': ['mean', 'max']\n",
    "}))"
   ]
  },
  {
   "cell_type": "markdown",
   "metadata": {},
   "source": [
    "## 8. Time Series <a id='timeseries'></a>"
   ]
  },
  {
   "cell_type": "code",
   "execution_count": null,
   "metadata": {},
   "outputs": [],
   "source": [
    "# Create time series data\n",
    "dates = pd.date_range('2024-01-01', periods=10, freq='D')\n",
    "df = pd.DataFrame({\n",
    "    'Date': dates,\n",
    "    'Value': np.random.randn(10).cumsum()\n",
    "})\n",
    "\n",
    "print(\"Time series data:\")\n",
    "print(df)\n",
    "\n",
    "# Set date as index\n",
    "df.set_index('Date', inplace=True)\n",
    "\n",
    "# Date operations\n",
    "print(\"\\nData for first 5 days:\")\n",
    "print(df.head())\n",
    "\n",
    "# Resampling\n",
    "print(\"\\nResample to 2-day periods:\")\n",
    "print(df.resample('2D').mean())"
   ]
  },
  {
   "cell_type": "markdown",
   "metadata": {},
   "source": [
    "## 9. Practical Examples <a id='examples'></a>"
   ]
  },
  {
   "cell_type": "code",
   "execution_count": null,
   "metadata": {},
   "outputs": [],
   "source": [
    "# Example: Sales data analysis\n",
    "sales_data = pd.DataFrame({\n",
    "    'Date': pd.date_range('2024-01-01', periods=20, freq='D'),\n",
    "    'Product': ['A', 'B'] * 10,\n",
    "    'Sales': np.random.randint(50, 200, 20),\n",
    "    'Region': ['North', 'South'] * 10\n",
    "})\n",
    "\n",
    "print(\"Sales Data:\")\n",
    "print(sales_data.head())\n",
    "\n",
    "# Total sales by product\n",
    "print(\"\\nTotal sales by product:\")\n",
    "print(sales_data.groupby('Product')['Sales'].sum())\n",
    "\n",
    "# Average sales by region\n",
    "print(\"\\nAverage sales by region:\")\n",
    "print(sales_data.groupby('Region')['Sales'].mean())\n",
    "\n",
    "# Pivot table\n",
    "print(\"\\nPivot table:\")\n",
    "pivot = sales_data.pivot_table(\n",
    "    values='Sales',\n",
    "    index='Product',\n",
    "    columns='Region',\n",
    "    aggfunc='mean'\n",
    ")\n",
    "print(pivot)"
   ]
  },
  {
   "cell_type": "markdown",
   "metadata": {},
   "source": [
    "## Summary\n",
    "\n",
    "In this notebook, we covered:\n",
    "- Pandas data structures (Series and DataFrames)\n",
    "- Loading and saving data\n",
    "- Selecting and filtering data\n",
    "- Cleaning missing values and duplicates\n",
    "- Transforming data with apply/map\n",
    "- GroupBy operations and aggregations\n",
    "- Time series analysis\n",
    "- Practical data analysis examples\n",
    "\n",
    "## Next Steps\n",
    "\n",
    "Move on to **Matplotlib** for data visualization!"
   ]
  }
 ],
 "metadata": {
  "kernelspec": {
   "display_name": "Python 3",
   "language": "python",
   "name": "python3"
  },
  "language_info": {
   "codemirror_mode": {
    "name": "ipython",
    "version": 3
   },
   "file_extension": ".py",
   "mimetype": "text/x-python",
   "name": "python",
   "nbconvert_exporter": "python",
   "pygments_lexer": "ipython3",
   "version": "3.8.0"
  }
 },
 "nbformat": 4,
 "nbformat_minor": 4
}
