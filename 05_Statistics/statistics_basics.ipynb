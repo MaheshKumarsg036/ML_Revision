{
 "cells": [
  {
   "cell_type": "markdown",
   "metadata": {},
   "source": [
    "# Statistics Basics - Foundation of Data Science\n",
    "\n",
    "Learn statistical concepts essential for ML.\n",
    "\n",
    "## Table of Contents\n",
    "1. [Descriptive Statistics](#desc)\n",
    "2. [Probability Distributions](#prob)\n",
    "3. [Hypothesis Testing](#hyp)\n",
    "4. [Correlation](#corr)"
   ]
  },
  {
   "cell_type": "code",
   "execution_count": null,
   "metadata": {},
   "outputs": [],
   "source": [
    "import numpy as np\n",
    "import pandas as pd\n",
    "import matplotlib.pyplot as plt\n",
    "import seaborn as sns\n",
    "from scipy import stats\n",
    "\n",
    "sns.set_theme()"
   ]
  },
  {
   "cell_type": "markdown",
   "metadata": {},
   "source": [
    "## Descriptive Statistics <a id='desc'></a>"
   ]
  },
  {
   "cell_type": "code",
   "execution_count": null,
   "metadata": {},
   "outputs": [],
   "source": [
    "# Generate sample data\n",
    "np.random.seed(42)\n",
    "data = np.random.normal(100, 15, 1000)\n",
    "\n",
    "print(\"Descriptive Statistics:\")\n",
    "print(f\"Mean: {np.mean(data):.2f}\")\n",
    "print(f\"Median: {np.median(data):.2f}\")\n",
    "print(f\"Mode: {stats.mode(data, keepdims=True)[0][0]:.2f}\")\n",
    "print(f\"Std Dev: {np.std(data):.2f}\")\n",
    "print(f\"Variance: {np.var(data):.2f}\")\n",
    "print(f\"Min: {np.min(data):.2f}\")\n",
    "print(f\"Max: {np.max(data):.2f}\")\n",
    "print(f\"25th percentile: {np.percentile(data, 25):.2f}\")\n",
    "print(f\"75th percentile: {np.percentile(data, 75):.2f}\")\n",
    "\n",
    "# Visualize\n",
    "plt.figure(figsize=(12, 4))\n",
    "plt.subplot(1, 2, 1)\n",
    "plt.hist(data, bins=30, edgecolor='black')\n",
    "plt.axvline(np.mean(data), color='r', linestyle='--', label='Mean')\n",
    "plt.axvline(np.median(data), color='g', linestyle='--', label='Median')\n",
    "plt.legend()\n",
    "plt.title('Distribution')\n",
    "\n",
    "plt.subplot(1, 2, 2)\n",
    "plt.boxplot(data)\n",
    "plt.title('Box Plot')\n",
    "plt.tight_layout()\n",
    "plt.show()"
   ]
  },
  {
   "cell_type": "markdown",
   "metadata": {},
   "source": [
    "## Probability Distributions <a id='prob'></a>"
   ]
  },
  {
   "cell_type": "code",
   "execution_count": null,
   "metadata": {},
   "outputs": [],
   "source": [
    "# Normal distribution\n",
    "x = np.linspace(-4, 4, 100)\n",
    "y = stats.norm.pdf(x, 0, 1)\n",
    "\n",
    "plt.figure(figsize=(10, 6))\n",
    "plt.plot(x, y, label='Normal(0,1)')\n",
    "plt.fill_between(x, y, alpha=0.3)\n",
    "plt.xlabel('Value')\n",
    "plt.ylabel('Probability Density')\n",
    "plt.title('Normal Distribution')\n",
    "plt.legend()\n",
    "plt.grid(True)\n",
    "plt.show()\n",
    "\n",
    "# Generate samples\n",
    "samples = np.random.normal(0, 1, 1000)\n",
    "plt.figure(figsize=(10, 6))\n",
    "plt.hist(samples, bins=30, density=True, alpha=0.7, label='Samples')\n",
    "plt.plot(x, y, 'r', label='Theoretical')\n",
    "plt.legend()\n",
    "plt.title('Sampled vs Theoretical Normal Distribution')\n",
    "plt.show()"
   ]
  },
  {
   "cell_type": "markdown",
   "metadata": {},
   "source": [
    "## Hypothesis Testing <a id='hyp'></a>"
   ]
  },
  {
   "cell_type": "code",
   "execution_count": null,
   "metadata": {},
   "outputs": [],
   "source": [
    "# One-sample t-test\n",
    "sample = np.random.normal(105, 15, 30)\n",
    "t_stat, p_value = stats.ttest_1samp(sample, 100)\n",
    "\n",
    "print(\"One-sample t-test:\")\n",
    "print(f\"Sample mean: {np.mean(sample):.2f}\")\n",
    "print(f\"t-statistic: {t_stat:.4f}\")\n",
    "print(f\"p-value: {p_value:.4f}\")\n",
    "print(f\"Significant at 0.05 level: {p_value < 0.05}\")\n",
    "\n",
    "# Two-sample t-test\n",
    "group1 = np.random.normal(100, 15, 50)\n",
    "group2 = np.random.normal(105, 15, 50)\n",
    "t_stat, p_value = stats.ttest_ind(group1, group2)\n",
    "\n",
    "print(\"\\nTwo-sample t-test:\")\n",
    "print(f\"Group 1 mean: {np.mean(group1):.2f}\")\n",
    "print(f\"Group 2 mean: {np.mean(group2):.2f}\")\n",
    "print(f\"t-statistic: {t_stat:.4f}\")\n",
    "print(f\"p-value: {p_value:.4f}\")\n",
    "print(f\"Significant at 0.05 level: {p_value < 0.05}\")"
   ]
  },
  {
   "cell_type": "markdown",
   "metadata": {},
   "source": [
    "## Correlation <a id='corr'></a>"
   ]
  },
  {
   "cell_type": "code",
   "execution_count": null,
   "metadata": {},
   "outputs": [],
   "source": [
    "# Generate correlated data\n",
    "np.random.seed(42)\n",
    "x = np.random.randn(100)\n",
    "y = 2 * x + np.random.randn(100) * 0.5\n",
    "\n",
    "# Calculate correlation\n",
    "pearson_corr, _ = stats.pearsonr(x, y)\n",
    "spearman_corr, _ = stats.spearmanr(x, y)\n",
    "\n",
    "print(f\"Pearson correlation: {pearson_corr:.4f}\")\n",
    "print(f\"Spearman correlation: {spearman_corr:.4f}\")\n",
    "\n",
    "# Visualize\n",
    "plt.figure(figsize=(10, 6))\n",
    "plt.scatter(x, y, alpha=0.5)\n",
    "plt.xlabel('X')\n",
    "plt.ylabel('Y')\n",
    "plt.title(f'Correlation: {pearson_corr:.2f}')\n",
    "plt.grid(True)\n",
    "plt.show()"
   ]
  },
  {
   "cell_type": "markdown",
   "metadata": {},
   "source": [
    "## Summary\n",
    "\n",
    "Covered:\n",
    "- Descriptive statistics (mean, median, variance)\n",
    "- Probability distributions\n",
    "- Hypothesis testing (t-tests)\n",
    "- Correlation analysis\n",
    "\n",
    "Next: **Feature Engineering** for ML preparation!"
   ]
  }
 ],
 "metadata": {
  "kernelspec": {
   "display_name": "Python 3",
   "language": "python",
   "name": "python3"
  },
  "language_info": {
   "name": "python",
   "version": "3.8.0"
  }
 },
 "nbformat": 4,
 "nbformat_minor": 4
}
