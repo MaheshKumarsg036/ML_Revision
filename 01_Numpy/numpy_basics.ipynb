{
 "cells": [
  {
   "cell_type": "markdown",
   "metadata": {},
   "source": [
    "# NumPy Basics - Comprehensive Tutorial\n",
    "\n",
    "This notebook covers fundamental and advanced NumPy concepts for numerical computing in Python.\n",
    "\n",
    "## Table of Contents\n",
    "1. [Introduction and Setup](#intro)\n",
    "2. [Array Creation](#creation)\n",
    "3. [Array Attributes](#attributes)\n",
    "4. [Array Indexing and Slicing](#indexing)\n",
    "5. [Array Operations](#operations)\n",
    "6. [Broadcasting](#broadcasting)\n",
    "7. [Mathematical Functions](#math)\n",
    "8. [Linear Algebra](#linalg)\n",
    "9. [Random Module](#random)\n",
    "10. [Practical Examples](#examples)"
   ]
  },
  {
   "cell_type": "markdown",
   "metadata": {},
   "source": [
    "## 1. Introduction and Setup <a id='intro'></a>"
   ]
  },
  {
   "cell_type": "code",
   "execution_count": null,
   "metadata": {},
   "outputs": [],
   "source": [
    "import numpy as np\n",
    "print(f\"NumPy version: {np.__version__}\")"
   ]
  },
  {
   "cell_type": "markdown",
   "metadata": {},
   "source": [
    "## 2. Array Creation <a id='creation'></a>\n",
    "\n",
    "NumPy offers several ways to create arrays:"
   ]
  },
  {
   "cell_type": "code",
   "execution_count": null,
   "metadata": {},
   "outputs": [],
   "source": [
    "# From Python list\n",
    "arr1 = np.array([1, 2, 3, 4, 5])\n",
    "print(\"Array from list:\", arr1)\n",
    "\n",
    "# 2D array\n",
    "arr2 = np.array([[1, 2, 3], [4, 5, 6]])\n",
    "print(\"\\n2D array:\\n\", arr2)\n",
    "\n",
    "# Using zeros, ones, and full\n",
    "zeros = np.zeros((3, 4))\n",
    "ones = np.ones((2, 3))\n",
    "full = np.full((2, 2), 7)\n",
    "print(\"\\nZeros:\\n\", zeros)\n",
    "print(\"\\nOnes:\\n\", ones)\n",
    "print(\"\\nFull:\\n\", full)\n",
    "\n",
    "# Using arange and linspace\n",
    "arange_arr = np.arange(0, 10, 2)\n",
    "linspace_arr = np.linspace(0, 1, 5)\n",
    "print(\"\\nArange:\", arange_arr)\n",
    "print(\"Linspace:\", linspace_arr)\n",
    "\n",
    "# Identity matrix\n",
    "identity = np.eye(3)\n",
    "print(\"\\nIdentity matrix:\\n\", identity)"
   ]
  },
  {
   "cell_type": "markdown",
   "metadata": {},
   "source": [
    "## 3. Array Attributes <a id='attributes'></a>"
   ]
  },
  {
   "cell_type": "code",
   "execution_count": null,
   "metadata": {},
   "outputs": [],
   "source": [
    "arr = np.array([[1, 2, 3, 4], [5, 6, 7, 8], [9, 10, 11, 12]])\n",
    "\n",
    "print(\"Array:\\n\", arr)\n",
    "print(\"\\nShape:\", arr.shape)\n",
    "print(\"Size:\", arr.size)\n",
    "print(\"Dimensions:\", arr.ndim)\n",
    "print(\"Data type:\", arr.dtype)\n",
    "print(\"Item size:\", arr.itemsize, \"bytes\")\n",
    "print(\"Total bytes:\", arr.nbytes)"
   ]
  },
  {
   "cell_type": "markdown",
   "metadata": {},
   "source": [
    "## 4. Array Indexing and Slicing <a id='indexing'></a>"
   ]
  },
  {
   "cell_type": "code",
   "execution_count": null,
   "metadata": {},
   "outputs": [],
   "source": [
    "arr = np.array([0, 1, 2, 3, 4, 5, 6, 7, 8, 9])\n",
    "\n",
    "# Basic indexing\n",
    "print(\"Element at index 3:\", arr[3])\n",
    "print(\"Last element:\", arr[-1])\n",
    "\n",
    "# Slicing\n",
    "print(\"\\nSlice [2:5]:\", arr[2:5])\n",
    "print(\"Slice [:5]:\", arr[:5])\n",
    "print(\"Slice [5:]:\", arr[5:])\n",
    "print(\"Every other element:\", arr[::2])\n",
    "\n",
    "# 2D array indexing\n",
    "arr2d = np.array([[1, 2, 3], [4, 5, 6], [7, 8, 9]])\n",
    "print(\"\\n2D array:\\n\", arr2d)\n",
    "print(\"Element [1, 2]:\", arr2d[1, 2])\n",
    "print(\"First row:\", arr2d[0, :])\n",
    "print(\"Second column:\", arr2d[:, 1])\n",
    "\n",
    "# Boolean indexing\n",
    "print(\"\\nElements > 5:\", arr[arr > 5])"
   ]
  },
  {
   "cell_type": "markdown",
   "metadata": {},
   "source": [
    "## 5. Array Operations <a id='operations'></a>"
   ]
  },
  {
   "cell_type": "code",
   "execution_count": null,
   "metadata": {},
   "outputs": [],
   "source": [
    "a = np.array([1, 2, 3, 4])\n",
    "b = np.array([5, 6, 7, 8])\n",
    "\n",
    "# Arithmetic operations\n",
    "print(\"Addition:\", a + b)\n",
    "print(\"Subtraction:\", a - b)\n",
    "print(\"Multiplication:\", a * b)\n",
    "print(\"Division:\", b / a)\n",
    "print(\"Power:\", a ** 2)\n",
    "\n",
    "# Scalar operations\n",
    "print(\"\\nScalar operations:\")\n",
    "print(\"a + 10:\", a + 10)\n",
    "print(\"a * 2:\", a * 2)\n",
    "\n",
    "# Aggregation functions\n",
    "arr = np.array([[1, 2, 3], [4, 5, 6]])\n",
    "print(\"\\nArray:\\n\", arr)\n",
    "print(\"Sum:\", np.sum(arr))\n",
    "print(\"Sum along axis 0:\", np.sum(arr, axis=0))\n",
    "print(\"Sum along axis 1:\", np.sum(arr, axis=1))\n",
    "print(\"Mean:\", np.mean(arr))\n",
    "print(\"Std:\", np.std(arr))\n",
    "print(\"Min:\", np.min(arr))\n",
    "print(\"Max:\", np.max(arr))"
   ]
  },
  {
   "cell_type": "markdown",
   "metadata": {},
   "source": [
    "## 6. Broadcasting <a id='broadcasting'></a>"
   ]
  },
  {
   "cell_type": "code",
   "execution_count": null,
   "metadata": {},
   "outputs": [],
   "source": [
    "# Broadcasting allows operations on arrays of different shapes\n",
    "a = np.array([[1, 2, 3], [4, 5, 6]])\n",
    "b = np.array([10, 20, 30])\n",
    "\n",
    "print(\"Array a:\\n\", a)\n",
    "print(\"\\nArray b:\", b)\n",
    "print(\"\\na + b:\\n\", a + b)\n",
    "\n",
    "# Broadcasting with scalar\n",
    "c = np.array([[1], [2], [3]])\n",
    "d = np.array([1, 2, 3, 4])\n",
    "print(\"\\nArray c:\\n\", c)\n",
    "print(\"\\nArray d:\", d)\n",
    "print(\"\\nc + d:\\n\", c + d)"
   ]
  },
  {
   "cell_type": "markdown",
   "metadata": {},
   "source": [
    "## 7. Mathematical Functions <a id='math'></a>"
   ]
  },
  {
   "cell_type": "code",
   "execution_count": null,
   "metadata": {},
   "outputs": [],
   "source": [
    "x = np.linspace(0, np.pi, 5)\n",
    "\n",
    "print(\"x:\", x)\n",
    "print(\"\\nSin(x):\", np.sin(x))\n",
    "print(\"Cos(x):\", np.cos(x))\n",
    "print(\"Exp(x):\", np.exp(x))\n",
    "print(\"Log(x+1):\", np.log(x + 1))\n",
    "print(\"Sqrt(x):\", np.sqrt(x))\n",
    "\n",
    "# Rounding\n",
    "y = np.array([1.23, 2.47, 3.56, 4.89])\n",
    "print(\"\\nOriginal:\", y)\n",
    "print(\"Round:\", np.round(y))\n",
    "print(\"Floor:\", np.floor(y))\n",
    "print(\"Ceil:\", np.ceil(y))"
   ]
  },
  {
   "cell_type": "markdown",
   "metadata": {},
   "source": [
    "## 8. Linear Algebra <a id='linalg'></a>"
   ]
  },
  {
   "cell_type": "code",
   "execution_count": null,
   "metadata": {},
   "outputs": [],
   "source": [
    "# Matrix operations\n",
    "A = np.array([[1, 2], [3, 4]])\n",
    "B = np.array([[5, 6], [7, 8]])\n",
    "\n",
    "print(\"Matrix A:\\n\", A)\n",
    "print(\"\\nMatrix B:\\n\", B)\n",
    "\n",
    "# Matrix multiplication\n",
    "print(\"\\nMatrix multiplication (A @ B):\\n\", A @ B)\n",
    "print(\"\\nDot product:\\n\", np.dot(A, B))\n",
    "\n",
    "# Transpose\n",
    "print(\"\\nTranspose of A:\\n\", A.T)\n",
    "\n",
    "# Determinant\n",
    "print(\"\\nDeterminant of A:\", np.linalg.det(A))\n",
    "\n",
    "# Inverse\n",
    "print(\"\\nInverse of A:\\n\", np.linalg.inv(A))\n",
    "\n",
    "# Eigenvalues and eigenvectors\n",
    "eigenvalues, eigenvectors = np.linalg.eig(A)\n",
    "print(\"\\nEigenvalues:\", eigenvalues)\n",
    "print(\"Eigenvectors:\\n\", eigenvectors)"
   ]
  },
  {
   "cell_type": "markdown",
   "metadata": {},
   "source": [
    "## 9. Random Module <a id='random'></a>"
   ]
  },
  {
   "cell_type": "code",
   "execution_count": null,
   "metadata": {},
   "outputs": [],
   "source": [
    "# Set seed for reproducibility\n",
    "np.random.seed(42)\n",
    "\n",
    "# Random integers\n",
    "print(\"Random integers (0-10):\", np.random.randint(0, 10, 5))\n",
    "\n",
    "# Random floats\n",
    "print(\"Random floats [0, 1):\", np.random.rand(5))\n",
    "print(\"Random normal distribution:\", np.random.randn(5))\n",
    "\n",
    "# Random from distributions\n",
    "print(\"\\nUniform distribution:\", np.random.uniform(0, 10, 5))\n",
    "print(\"Normal distribution:\", np.random.normal(0, 1, 5))\n",
    "\n",
    "# Random choice\n",
    "arr = np.array([1, 2, 3, 4, 5])\n",
    "print(\"\\nRandom choice:\", np.random.choice(arr, 3))\n",
    "\n",
    "# Shuffle\n",
    "np.random.shuffle(arr)\n",
    "print(\"Shuffled array:\", arr)"
   ]
  },
  {
   "cell_type": "markdown",
   "metadata": {},
   "source": [
    "## 10. Practical Examples <a id='examples'></a>"
   ]
  },
  {
   "cell_type": "code",
   "execution_count": null,
   "metadata": {},
   "outputs": [],
   "source": [
    "# Example 1: Computing statistics on student scores\n",
    "scores = np.array([[85, 90, 78, 92],\n",
    "                   [88, 76, 95, 89],\n",
    "                   [92, 88, 85, 90]])\n",
    "\n",
    "print(\"Student Scores:\\n\", scores)\n",
    "print(\"\\nAverage score per student:\", np.mean(scores, axis=1))\n",
    "print(\"Average score per subject:\", np.mean(scores, axis=0))\n",
    "print(\"Overall average:\", np.mean(scores))\n",
    "print(\"Highest score:\", np.max(scores))\n",
    "print(\"Lowest score:\", np.min(scores))\n",
    "\n",
    "# Example 2: Normalize data\n",
    "data = np.array([10, 20, 30, 40, 50])\n",
    "normalized = (data - np.mean(data)) / np.std(data)\n",
    "print(\"\\nOriginal data:\", data)\n",
    "print(\"Normalized data:\", normalized)\n",
    "\n",
    "# Example 3: Distance matrix\n",
    "points = np.array([[1, 2], [3, 4], [5, 6]])\n",
    "print(\"\\nPoints:\\n\", points)\n",
    "distances = np.sqrt(((points[:, np.newaxis] - points) ** 2).sum(axis=2))\n",
    "print(\"Distance matrix:\\n\", distances)"
   ]
  },
  {
   "cell_type": "markdown",
   "metadata": {},
   "source": [
    "## Summary\n",
    "\n",
    "In this notebook, we covered:\n",
    "- Creating NumPy arrays in various ways\n",
    "- Understanding array attributes and properties\n",
    "- Indexing and slicing arrays\n",
    "- Performing mathematical operations\n",
    "- Broadcasting for operations on different shapes\n",
    "- Linear algebra operations\n",
    "- Random number generation\n",
    "- Practical applications\n",
    "\n",
    "## Next Steps\n",
    "\n",
    "Practice with real datasets and move on to **Pandas** for data manipulation!"
   ]
  }
 ],
 "metadata": {
  "kernelspec": {
   "display_name": "Python 3",
   "language": "python",
   "name": "python3"
  },
  "language_info": {
   "codemirror_mode": {
    "name": "ipython",
    "version": 3
   },
   "file_extension": ".py",
   "mimetype": "text/x-python",
   "name": "python",
   "nbconvert_exporter": "python",
   "pygments_lexer": "ipython3",
   "version": "3.8.0"
  }
 },
 "nbformat": 4,
 "nbformat_minor": 4
}
