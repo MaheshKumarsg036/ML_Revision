{
 "cells": [
  {
   "cell_type": "markdown",
   "metadata": {},
   "source": [
    "# Seaborn Basics - Statistical Visualization\n",
    "\n",
    "Learn statistical visualization with Seaborn.\n",
    "\n",
    "## Table of Contents\n",
    "1. [Introduction](#intro)\n",
    "2. [Distribution Plots](#dist)\n",
    "3. [Categorical Plots](#cat)\n",
    "4. [Regression Plots](#reg)\n",
    "5. [Matrix Plots](#matrix)"
   ]
  },
  {
   "cell_type": "code",
   "execution_count": null,
   "metadata": {},
   "outputs": [],
   "source": [
    "import seaborn as sns\n",
    "import matplotlib.pyplot as plt\n",
    "import numpy as np\n",
    "import pandas as pd\n",
    "\n",
    "print(f\"Seaborn version: {sns.__version__}\")\n",
    "sns.set_theme()"
   ]
  },
  {
   "cell_type": "markdown",
   "metadata": {},
   "source": [
    "## Distribution Plots <a id='dist'></a>"
   ]
  },
  {
   "cell_type": "code",
   "execution_count": null,
   "metadata": {},
   "outputs": [],
   "source": [
    "# Load sample dataset\n",
    "tips = sns.load_dataset('tips')\n",
    "print(tips.head())\n",
    "\n",
    "# Histogram\n",
    "plt.figure(figsize=(10, 6))\n",
    "sns.histplot(data=tips, x='total_bill', bins=20)\n",
    "plt.title('Distribution of Total Bill')\n",
    "plt.show()"
   ]
  },
  {
   "cell_type": "code",
   "execution_count": null,
   "metadata": {},
   "outputs": [],
   "source": [
    "# KDE plot\n",
    "plt.figure(figsize=(10, 6))\n",
    "sns.kdeplot(data=tips, x='total_bill', hue='time')\n",
    "plt.title('KDE Plot by Time')\n",
    "plt.show()"
   ]
  },
  {
   "cell_type": "markdown",
   "metadata": {},
   "source": [
    "## Categorical Plots <a id='cat'></a>"
   ]
  },
  {
   "cell_type": "code",
   "execution_count": null,
   "metadata": {},
   "outputs": [],
   "source": [
    "# Box plot\n",
    "plt.figure(figsize=(10, 6))\n",
    "sns.boxplot(data=tips, x='day', y='total_bill')\n",
    "plt.title('Total Bill by Day')\n",
    "plt.show()"
   ]
  },
  {
   "cell_type": "code",
   "execution_count": null,
   "metadata": {},
   "outputs": [],
   "source": [
    "# Violin plot\n",
    "plt.figure(figsize=(10, 6))\n",
    "sns.violinplot(data=tips, x='day', y='total_bill', hue='time')\n",
    "plt.title('Violin Plot')\n",
    "plt.show()"
   ]
  },
  {
   "cell_type": "markdown",
   "metadata": {},
   "source": [
    "## Regression Plots <a id='reg'></a>"
   ]
  },
  {
   "cell_type": "code",
   "execution_count": null,
   "metadata": {},
   "outputs": [],
   "source": [
    "# Regression plot\n",
    "plt.figure(figsize=(10, 6))\n",
    "sns.regplot(data=tips, x='total_bill', y='tip')\n",
    "plt.title('Tip vs Total Bill with Regression Line')\n",
    "plt.show()"
   ]
  },
  {
   "cell_type": "markdown",
   "metadata": {},
   "source": [
    "## Matrix Plots <a id='matrix'></a>"
   ]
  },
  {
   "cell_type": "code",
   "execution_count": null,
   "metadata": {},
   "outputs": [],
   "source": [
    "# Correlation heatmap\n",
    "numeric_cols = tips.select_dtypes(include=[np.number])\n",
    "corr = numeric_cols.corr()\n",
    "\n",
    "plt.figure(figsize=(10, 8))\n",
    "sns.heatmap(corr, annot=True, cmap='coolwarm', center=0)\n",
    "plt.title('Correlation Matrix')\n",
    "plt.show()"
   ]
  },
  {
   "cell_type": "code",
   "execution_count": null,
   "metadata": {},
   "outputs": [],
   "source": [
    "# Pair plot\n",
    "sns.pairplot(tips, hue='time')\n",
    "plt.show()"
   ]
  },
  {
   "cell_type": "markdown",
   "metadata": {},
   "source": [
    "## Summary\n",
    "\n",
    "Covered:\n",
    "- Distribution plots (histogram, KDE)\n",
    "- Categorical plots (box, violin)\n",
    "- Regression plots\n",
    "- Matrix plots (heatmap, pairplot)\n",
    "\n",
    "Next: **Statistics** for theoretical foundation!"
   ]
  }
 ],
 "metadata": {
  "kernelspec": {
   "display_name": "Python 3",
   "language": "python",
   "name": "python3"
  },
  "language_info": {
   "name": "python",
   "version": "3.8.0"
  }
 },
 "nbformat": 4,
 "nbformat_minor": 4
}
